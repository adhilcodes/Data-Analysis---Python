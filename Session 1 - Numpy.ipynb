{
  "nbformat": 4,
  "nbformat_minor": 0,
  "metadata": {
    "kernelspec": {
      "display_name": "Python 3",
      "language": "python",
      "name": "python3"
    },
    "language_info": {
      "codemirror_mode": {
        "name": "ipython",
        "version": 3
      },
      "file_extension": ".py",
      "mimetype": "text/x-python",
      "name": "python",
      "nbconvert_exporter": "python",
      "pygments_lexer": "ipython3",
      "version": "3.6.7"
    },
    "colab": {
      "name": "Numpy.ipynb",
      "provenance": [],
      "collapsed_sections": []
    }
  },
  "cells": [
    {
      "cell_type": "markdown",
      "metadata": {
        "id": "HtOPHowyPH7K"
      },
      "source": [
        "\n",
        "<img src=\"https://user-images.githubusercontent.com/7065401/39118381-910eb0c2-46e9-11e8-81f1-a5b897401c23.jpeg\"\n",
        "    style=\"width:300px; float: right; margin: 0 40px 40px 40px;\"></img>\n",
        "\n",
        "# Numpy: Numeric computing library\n",
        "\n",
        "https://numpy.org/\n",
        "\n",
        "NumPy (Numerical Python) is one of the core packages for numerical computing in Python. Pandas, Matplotlib, Statmodels and many other Scientific libraries rely on NumPy.\n",
        "\n",
        "NumPy major contributions are:\n",
        "\n",
        "* Efficient numeric computation with C primitives\n",
        "* Efficient collections with vectorized operations\n",
        "* An integrated and natural Linear Algebra API\n",
        "* A C API for connecting NumPy with libraries written in C, C++, or FORTRAN.hon\n",
        "\n",
        "# What is an array\n",
        "\n",
        "An array is a data structure that stores values of same data type. In Python, this is the main difference between arrays and lists. While python lists can contain values corresponding to different data types, arrays in python can only contain values corresponding to same data type"
      ]
    },
    {
      "cell_type": "code",
      "metadata": {
        "id": "25ERfXnKPH7b",
        "colab": {
          "base_uri": "https://localhost:8080/"
        },
        "outputId": "b034bb65-8992-4ffc-9b78-678a25bac559"
      },
      "source": [
        "# Import the numpy package under the name np & numpy version and the configuration\n",
        "\n",
        "import numpy as np\n",
        "print(np.__version__)"
      ],
      "execution_count": 2,
      "outputs": [
        {
          "output_type": "stream",
          "text": [
            "1.19.4\n"
          ],
          "name": "stdout"
        }
      ]
    },
    {
      "cell_type": "code",
      "metadata": {
        "id": "jXmYBf7hPH7c"
      },
      "source": [
        "my_lst=[1,2,3,4,5]\n",
        "\n",
        "arr=np.array(my_lst)"
      ],
      "execution_count": 48,
      "outputs": []
    },
    {
      "cell_type": "code",
      "metadata": {
        "colab": {
          "base_uri": "https://localhost:8080/"
        },
        "id": "1-uxGkPXPH7d",
        "outputId": "be893312-e5a9-450e-ee41-5adad319bcc0"
      },
      "source": [
        "print(arr)"
      ],
      "execution_count": 49,
      "outputs": [
        {
          "output_type": "stream",
          "text": [
            "[1 2 3 4 5]\n"
          ],
          "name": "stdout"
        }
      ]
    },
    {
      "cell_type": "code",
      "metadata": {
        "colab": {
          "base_uri": "https://localhost:8080/"
        },
        "id": "u67fJ7aRPH7f",
        "outputId": "3b9d230e-0732-4698-96d9-6388ae6d6d02"
      },
      "source": [
        "type(arr)"
      ],
      "execution_count": 50,
      "outputs": [
        {
          "output_type": "execute_result",
          "data": {
            "text/plain": [
              "numpy.ndarray"
            ]
          },
          "metadata": {
            "tags": []
          },
          "execution_count": 50
        }
      ]
    },
    {
      "cell_type": "code",
      "metadata": {
        "id": "fRWnCLESPH7g"
      },
      "source": [
        "## Multinested array\n",
        "my_lst1=[1,2,3,4,5]\n",
        "my_lst2=[2,3,4,5,6]\n",
        "my_lst3=[9,7,6,8,9]\n",
        "\n",
        "arr=np.array([my_lst1,my_lst2,my_lst3])"
      ],
      "execution_count": 51,
      "outputs": []
    },
    {
      "cell_type": "code",
      "metadata": {
        "colab": {
          "base_uri": "https://localhost:8080/"
        },
        "id": "ZF6UKt9lPH7h",
        "outputId": "229b3c20-77c9-47b3-e3ab-b95e006b61f4"
      },
      "source": [
        "arr"
      ],
      "execution_count": 52,
      "outputs": [
        {
          "output_type": "execute_result",
          "data": {
            "text/plain": [
              "array([[1, 2, 3, 4, 5],\n",
              "       [2, 3, 4, 5, 6],\n",
              "       [9, 7, 6, 8, 9]])"
            ]
          },
          "metadata": {
            "tags": []
          },
          "execution_count": 52
        }
      ]
    },
    {
      "cell_type": "code",
      "metadata": {
        "colab": {
          "base_uri": "https://localhost:8080/"
        },
        "id": "o8zSkQ_YPH7h",
        "outputId": "717180e5-9268-4bc3-dbeb-d69c6c8cf4e6"
      },
      "source": [
        "type(arr)"
      ],
      "execution_count": 53,
      "outputs": [
        {
          "output_type": "execute_result",
          "data": {
            "text/plain": [
              "numpy.ndarray"
            ]
          },
          "metadata": {
            "tags": []
          },
          "execution_count": 53
        }
      ]
    },
    {
      "cell_type": "code",
      "metadata": {
        "colab": {
          "base_uri": "https://localhost:8080/"
        },
        "id": "D2KmmLgKPH7i",
        "outputId": "9b20cc71-ce8c-4be1-efae-acc6624f87e8"
      },
      "source": [
        "## check the shape of the array\n",
        "\n",
        "arr.shape"
      ],
      "execution_count": 54,
      "outputs": [
        {
          "output_type": "execute_result",
          "data": {
            "text/plain": [
              "(3, 5)"
            ]
          },
          "metadata": {
            "tags": []
          },
          "execution_count": 54
        }
      ]
    },
    {
      "cell_type": "code",
      "metadata": {
        "id": "uRMErCWUU66x",
        "colab": {
          "base_uri": "https://localhost:8080/"
        },
        "outputId": "3d460edf-9056-4a4a-daaf-843cf6ddfc6e"
      },
      "source": [
        "arr.ndim"
      ],
      "execution_count": 55,
      "outputs": [
        {
          "output_type": "execute_result",
          "data": {
            "text/plain": [
              "2"
            ]
          },
          "metadata": {
            "tags": []
          },
          "execution_count": 55
        }
      ]
    },
    {
      "cell_type": "code",
      "metadata": {
        "id": "KxbpBODfVG8H"
      },
      "source": [
        "new_arr = np.array([\r\n",
        "    [\r\n",
        "        [12, 11, 10],\r\n",
        "        [9, 8, 7],\r\n",
        "    ],\r\n",
        "    [\r\n",
        "        [6, 5, 4],\r\n",
        "        [3, 2, 1]\r\n",
        "    ]\r\n",
        "])\r\n",
        "new_arr"
      ],
      "execution_count": null,
      "outputs": []
    },
    {
      "cell_type": "code",
      "metadata": {
        "id": "ZI-OZqPyVXwm"
      },
      "source": [
        "B.shape"
      ],
      "execution_count": null,
      "outputs": []
    },
    {
      "cell_type": "markdown",
      "metadata": {
        "id": "j2Txzb3VPH7j"
      },
      "source": [
        "# Indexing and Slicing of Matrices"
      ]
    },
    {
      "cell_type": "code",
      "metadata": {
        "colab": {
          "base_uri": "https://localhost:8080/"
        },
        "id": "4qWOL47ePH7j",
        "outputId": "0c120e05-c4fd-4672-c891-bd9b2b20d8ff"
      },
      "source": [
        "## Accessing the array elements\n",
        "\n",
        "arr"
      ],
      "execution_count": null,
      "outputs": [
        {
          "output_type": "execute_result",
          "data": {
            "text/plain": [
              "array([[1, 2, 3, 4, 5],\n",
              "       [2, 3, 4, 5, 6],\n",
              "       [9, 7, 6, 8, 9]])"
            ]
          },
          "metadata": {
            "tags": []
          },
          "execution_count": 82
        }
      ]
    },
    {
      "cell_type": "code",
      "metadata": {
        "colab": {
          "base_uri": "https://localhost:8080/"
        },
        "id": "1hvoL8gpPH7k",
        "outputId": "c6962f89-e986-4c94-960d-09dad78333c4"
      },
      "source": [
        "arr[2]"
      ],
      "execution_count": null,
      "outputs": [
        {
          "output_type": "execute_result",
          "data": {
            "text/plain": [
              "array([9, 7, 6, 8, 9])"
            ]
          },
          "metadata": {
            "tags": []
          },
          "execution_count": 83
        }
      ]
    },
    {
      "cell_type": "code",
      "metadata": {
        "colab": {
          "base_uri": "https://localhost:8080/"
        },
        "id": "3LceG_7hPH7q",
        "outputId": "8144ec3b-0ecc-449c-b410-139b72d6545e"
      },
      "source": [
        "arr[1]"
      ],
      "execution_count": null,
      "outputs": [
        {
          "output_type": "execute_result",
          "data": {
            "text/plain": [
              "array([2, 3, 4, 5, 6])"
            ]
          },
          "metadata": {
            "tags": []
          },
          "execution_count": 84
        }
      ]
    },
    {
      "cell_type": "code",
      "metadata": {
        "colab": {
          "base_uri": "https://localhost:8080/"
        },
        "id": "J4jUQASIPH7q",
        "outputId": "f1399e3e-2e7d-417c-ecb9-c9f3eceee73f"
      },
      "source": [
        "arr[1:,:2]"
      ],
      "execution_count": null,
      "outputs": [
        {
          "output_type": "execute_result",
          "data": {
            "text/plain": [
              "array([[2, 3],\n",
              "       [9, 7]])"
            ]
          },
          "metadata": {
            "tags": []
          },
          "execution_count": 85
        }
      ]
    },
    {
      "cell_type": "code",
      "metadata": {
        "colab": {
          "base_uri": "https://localhost:8080/"
        },
        "id": "I34W5Cs5PH7r",
        "outputId": "2ae5a280-5181-40c5-9eee-91a13b7edda8"
      },
      "source": [
        "arr[:,3:]"
      ],
      "execution_count": null,
      "outputs": [
        {
          "output_type": "execute_result",
          "data": {
            "text/plain": [
              "array([[4, 5],\n",
              "       [5, 6],\n",
              "       [8, 9]])"
            ]
          },
          "metadata": {
            "tags": []
          },
          "execution_count": 86
        }
      ]
    },
    {
      "cell_type": "code",
      "metadata": {
        "colab": {
          "base_uri": "https://localhost:8080/"
        },
        "id": "EEQe4ubBPH7r",
        "outputId": "49e39404-9735-4ccd-ea00-78c29b19cb47"
      },
      "source": [
        "arr"
      ],
      "execution_count": null,
      "outputs": [
        {
          "output_type": "execute_result",
          "data": {
            "text/plain": [
              "array([[1, 2, 3, 4, 5],\n",
              "       [2, 3, 4, 5, 6],\n",
              "       [9, 7, 6, 8, 9]])"
            ]
          },
          "metadata": {
            "tags": []
          },
          "execution_count": 87
        }
      ]
    },
    {
      "cell_type": "code",
      "metadata": {
        "id": "wEQCGgUuPH7s"
      },
      "source": [
        "arr[2:] =100"
      ],
      "execution_count": null,
      "outputs": []
    },
    {
      "cell_type": "code",
      "metadata": {
        "colab": {
          "base_uri": "https://localhost:8080/"
        },
        "id": "XcWrlJaTPH7s",
        "outputId": "c39355ef-94be-4223-bd1f-804439932b86"
      },
      "source": [
        "arr"
      ],
      "execution_count": null,
      "outputs": [
        {
          "output_type": "execute_result",
          "data": {
            "text/plain": [
              "array([[  1,   2,   3,   4,   5],\n",
              "       [  2,   3,   4,   5,   6],\n",
              "       [100, 100, 100, 100, 100]])"
            ]
          },
          "metadata": {
            "tags": []
          },
          "execution_count": 89
        }
      ]
    },
    {
      "cell_type": "code",
      "metadata": {
        "colab": {
          "base_uri": "https://localhost:8080/"
        },
        "id": "imaONn_MPH7s",
        "outputId": "7a7b8549-1b13-4ce5-916b-ecb54384d7af"
      },
      "source": [
        "### Some conditions very useful in Exploratory Data Analysis \n",
        "\n",
        "val=2\n",
        "\n",
        "arr[arr<3]"
      ],
      "execution_count": null,
      "outputs": [
        {
          "output_type": "execute_result",
          "data": {
            "text/plain": [
              "array([1, 2, 2])"
            ]
          },
          "metadata": {
            "tags": []
          },
          "execution_count": 90
        }
      ]
    },
    {
      "cell_type": "markdown",
      "metadata": {
        "id": "cZHc394AVkh2"
      },
      "source": [
        "# Summary statistics"
      ]
    },
    {
      "cell_type": "code",
      "metadata": {
        "id": "rGQzbCmkVlxS"
      },
      "source": [
        "ar = np.array([1, 2, 3, 4])"
      ],
      "execution_count": 31,
      "outputs": []
    },
    {
      "cell_type": "code",
      "metadata": {
        "id": "LUn3aMliVmji"
      },
      "source": [
        "ar.sum()"
      ],
      "execution_count": null,
      "outputs": []
    },
    {
      "cell_type": "code",
      "metadata": {
        "id": "E1Ube7yUVmn5"
      },
      "source": [
        "ar.std()"
      ],
      "execution_count": null,
      "outputs": []
    },
    {
      "cell_type": "code",
      "metadata": {
        "id": "Cif9lvQtVmts"
      },
      "source": [
        "ar.var()"
      ],
      "execution_count": null,
      "outputs": []
    },
    {
      "cell_type": "code",
      "metadata": {
        "id": "-vYk4Do2VmwY"
      },
      "source": [
        "ar1 = np.array([\r\n",
        "    [1, 2, 3],\r\n",
        "    [4, 5, 6],\r\n",
        "    [7, 8, 9]\r\n",
        "])"
      ],
      "execution_count": null,
      "outputs": []
    },
    {
      "cell_type": "code",
      "metadata": {
        "id": "mDCPFpnJVwm9"
      },
      "source": [
        "ar1.sum()"
      ],
      "execution_count": null,
      "outputs": []
    },
    {
      "cell_type": "code",
      "metadata": {
        "id": "9YNQ5VIdVwpL"
      },
      "source": [
        "ar1.mean()"
      ],
      "execution_count": null,
      "outputs": []
    },
    {
      "cell_type": "code",
      "metadata": {
        "id": "4jqGJZoGVwr4"
      },
      "source": [
        "A.sum(axis=0)"
      ],
      "execution_count": null,
      "outputs": []
    },
    {
      "cell_type": "code",
      "metadata": {
        "id": "fuyi6eKjV-2O"
      },
      "source": [
        "A.sum(axis=1)"
      ],
      "execution_count": null,
      "outputs": []
    },
    {
      "cell_type": "code",
      "metadata": {
        "id": "jnvRSTGDV-4s"
      },
      "source": [
        "A.mean(axis=0)"
      ],
      "execution_count": null,
      "outputs": []
    },
    {
      "cell_type": "code",
      "metadata": {
        "id": "-MYaxxWcV--o"
      },
      "source": [
        "A.std(axis=1)"
      ],
      "execution_count": null,
      "outputs": []
    },
    {
      "cell_type": "code",
      "metadata": {
        "id": "xQomuEnWWLvd"
      },
      "source": [
        "m1 = np.array([\r\n",
        "    [1, 2, 3],\r\n",
        "    [4, 5, 6],\r\n",
        "    [7, 8, 9]\r\n",
        "])"
      ],
      "execution_count": 28,
      "outputs": []
    },
    {
      "cell_type": "code",
      "metadata": {
        "id": "VhMwSNQXWLx_"
      },
      "source": [
        "m2 = np.array([\r\n",
        "    [6, 5],\r\n",
        "    [4, 3],\r\n",
        "    [2, 1]\r\n",
        "])"
      ],
      "execution_count": null,
      "outputs": []
    },
    {
      "cell_type": "code",
      "metadata": {
        "id": "x4gAbhhTWQFX"
      },
      "source": [
        "m1.dot(m2)"
      ],
      "execution_count": null,
      "outputs": []
    },
    {
      "cell_type": "markdown",
      "metadata": {
        "id": "mlgOjj6HWlt1"
      },
      "source": [
        "# Useful Numpy functions\r\n",
        "\r\n",
        "### `arange` and  `reshape`"
      ]
    },
    {
      "cell_type": "code",
      "metadata": {
        "colab": {
          "base_uri": "https://localhost:8080/"
        },
        "id": "I9d5F0tFPH7t",
        "outputId": "40a40a43-b4ce-48ce-880a-2c63ec495871"
      },
      "source": [
        "## Create arrays and reshape\n",
        "\n",
        "np.arange(0,10).reshape(5,2)"
      ],
      "execution_count": null,
      "outputs": [
        {
          "output_type": "execute_result",
          "data": {
            "text/plain": [
              "array([[0, 1],\n",
              "       [2, 3],\n",
              "       [4, 5],\n",
              "       [6, 7],\n",
              "       [8, 9]])"
            ]
          },
          "metadata": {
            "tags": []
          },
          "execution_count": 91
        }
      ]
    },
    {
      "cell_type": "code",
      "metadata": {
        "colab": {
          "base_uri": "https://localhost:8080/"
        },
        "id": "ZHaq7JVAPH7w",
        "outputId": "7105435d-54ca-4671-a088-43814b7dff3f"
      },
      "source": [
        "arr1=np.arange(0,10).reshape(2,5)\r\n",
        "arr1"
      ],
      "execution_count": null,
      "outputs": [
        {
          "output_type": "execute_result",
          "data": {
            "text/plain": [
              "array([[0, 1, 2, 3, 4],\n",
              "       [5, 6, 7, 8, 9]])"
            ]
          },
          "metadata": {
            "tags": []
          },
          "execution_count": 92
        }
      ]
    },
    {
      "cell_type": "code",
      "metadata": {
        "colab": {
          "base_uri": "https://localhost:8080/"
        },
        "id": "QQw3RjF-PH7w",
        "outputId": "db285fb2-5b5d-40e2-cab8-670334b192d4"
      },
      "source": [
        "arr2=np.arange(0,10).reshape(2,5)\r\n",
        "arr2"
      ],
      "execution_count": null,
      "outputs": [
        {
          "output_type": "execute_result",
          "data": {
            "text/plain": [
              "array([[0, 1, 2, 3, 4],\n",
              "       [5, 6, 7, 8, 9]])"
            ]
          },
          "metadata": {
            "tags": []
          },
          "execution_count": 93
        }
      ]
    },
    {
      "cell_type": "code",
      "metadata": {
        "colab": {
          "base_uri": "https://localhost:8080/"
        },
        "id": "2xdfViQ4PH7x",
        "outputId": "4272420f-3cf1-4f20-c273-2016e498e92d"
      },
      "source": [
        "arr1*arr2"
      ],
      "execution_count": null,
      "outputs": [
        {
          "output_type": "execute_result",
          "data": {
            "text/plain": [
              "array([[ 0,  1,  4,  9, 16],\n",
              "       [25, 36, 49, 64, 81]])"
            ]
          },
          "metadata": {
            "tags": []
          },
          "execution_count": 94
        }
      ]
    },
    {
      "cell_type": "markdown",
      "metadata": {
        "id": "NuwQpB8AXPj3"
      },
      "source": [
        "### `zeros`, `ones`, `empty`"
      ]
    },
    {
      "cell_type": "code",
      "metadata": {
        "id": "eYdObs_DXQuI"
      },
      "source": [
        "np.zeros(5)"
      ],
      "execution_count": null,
      "outputs": []
    },
    {
      "cell_type": "code",
      "metadata": {
        "id": "YDAG_KRvXV4i"
      },
      "source": [
        "np.zeros((3, 3))"
      ],
      "execution_count": null,
      "outputs": []
    },
    {
      "cell_type": "code",
      "metadata": {
        "colab": {
          "base_uri": "https://localhost:8080/"
        },
        "id": "k69J40wXPH7x",
        "outputId": "3e2f9e69-6abf-4201-9ac2-eeb7e89763e5"
      },
      "source": [
        "np.ones((2,5),dtype=int)"
      ],
      "execution_count": null,
      "outputs": [
        {
          "output_type": "execute_result",
          "data": {
            "text/plain": [
              "array([[1, 1, 1, 1, 1],\n",
              "       [1, 1, 1, 1, 1]])"
            ]
          },
          "metadata": {
            "tags": []
          },
          "execution_count": 95
        }
      ]
    },
    {
      "cell_type": "code",
      "metadata": {
        "id": "jy9pQht-XV6e",
        "colab": {
          "base_uri": "https://localhost:8080/"
        },
        "outputId": "5b9d3d0e-a24c-4b0b-d8ae-2ed35143ebbb"
      },
      "source": [
        "np.empty((2, 2))"
      ],
      "execution_count": 4,
      "outputs": [
        {
          "output_type": "execute_result",
          "data": {
            "text/plain": [
              "array([[5.e-324, 5.e-324],\n",
              "       [5.e-324, 0.e+000]])"
            ]
          },
          "metadata": {
            "tags": []
          },
          "execution_count": 4
        }
      ]
    },
    {
      "cell_type": "markdown",
      "metadata": {
        "id": "gUpkyRRuAqET"
      },
      "source": [
        "`np.linspace`"
      ]
    },
    {
      "cell_type": "code",
      "metadata": {
        "colab": {
          "base_uri": "https://localhost:8080/"
        },
        "id": "RzhLdVU2Ao3B",
        "outputId": "e1773aad-f83b-4c10-8324-a9cf008a1239"
      },
      "source": [
        "np.linspace(2.0, 3.0, num=5)"
      ],
      "execution_count": 3,
      "outputs": [
        {
          "output_type": "execute_result",
          "data": {
            "text/plain": [
              "array([2.  , 2.25, 2.5 , 2.75, 3.  ])"
            ]
          },
          "metadata": {
            "tags": []
          },
          "execution_count": 3
        }
      ]
    },
    {
      "cell_type": "code",
      "metadata": {
        "colab": {
          "base_uri": "https://localhost:8080/"
        },
        "id": "e27AQvvVAyxN",
        "outputId": "5b0cacab-2af3-4050-dd92-603f6c1480d4"
      },
      "source": [
        "np.linspace(2.0, 3.0, num=5, endpoint=False)"
      ],
      "execution_count": 5,
      "outputs": [
        {
          "output_type": "execute_result",
          "data": {
            "text/plain": [
              "array([2. , 2.2, 2.4, 2.6, 2.8])"
            ]
          },
          "metadata": {
            "tags": []
          },
          "execution_count": 5
        }
      ]
    },
    {
      "cell_type": "code",
      "metadata": {
        "colab": {
          "base_uri": "https://localhost:8080/",
          "height": 269
        },
        "id": "QmmfKEOVBELh",
        "outputId": "6fb0eac5-c70f-477b-dd15-b89be1f6090e"
      },
      "source": [
        "import matplotlib.pyplot as plt\r\n",
        "N = 8\r\n",
        "y = np.zeros(N)\r\n",
        "x1 = np.linspace(0, 10, N, endpoint=True)\r\n",
        "x2 = np.linspace(0, 10, N, endpoint=False)\r\n",
        "plt.plot(x1, y, 'o')\r\n",
        "plt.plot(x2, y + 0.5, 'o')\r\n",
        "plt.ylim([-0.5, 1])\r\n",
        "plt.show()"
      ],
      "execution_count": 6,
      "outputs": [
        {
          "output_type": "display_data",
          "data": {
            "image/png": "[encoded data removed]",
            "text/plain": [
              "<Figure size 432x288 with 1 Axes>"
            ]
          },
          "metadata": {
            "tags": [],
            "needs_background": "light"
          }
        }
      ]
    },
    {
      "cell_type": "markdown",
      "metadata": {
        "id": "DRoyx72mBO9N"
      },
      "source": [
        "`np.argmax`\r\n",
        "\r\n",
        "Returns the indices of the maximum values along an axis."
      ]
    },
    {
      "cell_type": "code",
      "metadata": {
        "id": "nOHUt7G7BOQq"
      },
      "source": [
        "mat = np.arange(6).reshape(2,3) + 10"
      ],
      "execution_count": 18,
      "outputs": []
    },
    {
      "cell_type": "code",
      "metadata": {
        "colab": {
          "base_uri": "https://localhost:8080/"
        },
        "id": "p786f3QHC8DK",
        "outputId": "91dde1fc-5b24-4d57-f849-fd08eb2d9444"
      },
      "source": [
        "np.argmax(mat)"
      ],
      "execution_count": 19,
      "outputs": [
        {
          "output_type": "execute_result",
          "data": {
            "text/plain": [
              "5"
            ]
          },
          "metadata": {
            "tags": []
          },
          "execution_count": 19
        }
      ]
    },
    {
      "cell_type": "code",
      "metadata": {
        "colab": {
          "base_uri": "https://localhost:8080/"
        },
        "id": "5DnmndxzDbXn",
        "outputId": "4623c907-710c-4b06-8cb5-88399fe538f1"
      },
      "source": [
        "mat2 = np.arange(6)\r\n",
        "mat2"
      ],
      "execution_count": 24,
      "outputs": [
        {
          "output_type": "execute_result",
          "data": {
            "text/plain": [
              "array([0, 1, 2, 3, 4, 5])"
            ]
          },
          "metadata": {
            "tags": []
          },
          "execution_count": 24
        }
      ]
    },
    {
      "cell_type": "code",
      "metadata": {
        "id": "WJxPMzOIDrDZ"
      },
      "source": [
        "mat2[2] = 11"
      ],
      "execution_count": 25,
      "outputs": []
    },
    {
      "cell_type": "code",
      "metadata": {
        "colab": {
          "base_uri": "https://localhost:8080/"
        },
        "id": "eGHYdB0cDgOg",
        "outputId": "eb38f2b0-3ec6-4044-d351-18af955c0671"
      },
      "source": [
        "# Only the first occurrence is returned.\r\n",
        "\r\n",
        "np.argmax(mat2)"
      ],
      "execution_count": 27,
      "outputs": [
        {
          "output_type": "execute_result",
          "data": {
            "text/plain": [
              "2"
            ]
          },
          "metadata": {
            "tags": []
          },
          "execution_count": 27
        }
      ]
    },
    {
      "cell_type": "markdown",
      "metadata": {
        "id": "kMc3j0VpW6Rk"
      },
      "source": [
        "### `random` "
      ]
    },
    {
      "cell_type": "code",
      "metadata": {
        "colab": {
          "base_uri": "https://localhost:8080/"
        },
        "id": "CpSUERTIPH7y",
        "outputId": "733d68f3-f19f-4a7e-cf7f-5965df520310"
      },
      "source": [
        "## random distribution\n",
        "\n",
        "np.random.rand(3,3) # The random module's rand() method returns a random float between 0 and 1"
      ],
      "execution_count": 59,
      "outputs": [
        {
          "output_type": "execute_result",
          "data": {
            "text/plain": [
              "array([[2.02051283e-04, 6.26681548e-02, 4.28674962e-01],\n",
              "       [3.33647693e-01, 2.92907080e-01, 7.85280617e-02],\n",
              "       [6.59707302e-01, 7.52005234e-01, 9.91350458e-01]])"
            ]
          },
          "metadata": {
            "tags": []
          },
          "execution_count": 59
        }
      ]
    },
    {
      "cell_type": "code",
      "metadata": {
        "id": "Ww_NYxLMPH7z",
        "colab": {
          "base_uri": "https://localhost:8080/"
        },
        "outputId": "750d2e2a-5f7b-41d4-9e0e-34becedc24d4"
      },
      "source": [
        "# Return a sample (or samples) from the “standard normal” distribution\r\n",
        "\r\n",
        "np.random.randn(4,4)"
      ],
      "execution_count": 40,
      "outputs": [
        {
          "output_type": "execute_result",
          "data": {
            "text/plain": [
              "array([[-1.28331757,  0.20894177,  0.48086599, -0.67079762],\n",
              "       [-1.36339891, -1.10452258,  0.9895856 , -0.98065453],\n",
              "       [ 0.06144271, -0.49532126, -0.79288534,  2.13365153],\n",
              "       [-1.67878297,  1.50284365, -0.67064289,  1.28982335]])"
            ]
          },
          "metadata": {
            "tags": []
          },
          "execution_count": 40
        }
      ]
    },
    {
      "cell_type": "code",
      "metadata": {
        "colab": {
          "base_uri": "https://localhost:8080/"
        },
        "id": "afU3kuQaI7MB",
        "outputId": "5bf1f515-c8c8-4260-bcb4-3c540258cb91"
      },
      "source": [
        "3 + 2.5 * np.random.randn(4,4)"
      ],
      "execution_count": 67,
      "outputs": [
        {
          "output_type": "execute_result",
          "data": {
            "text/plain": [
              "array([[ 0.89219449,  3.2305413 ,  1.3377583 ,  3.51616074],\n",
              "       [ 2.53057289,  2.0723351 ,  2.02844681,  6.38018042],\n",
              "       [-1.5091833 ,  3.71344169,  4.02699089,  1.48672685],\n",
              "       [ 5.50335461,  2.58399292,  1.38836458,  1.01490637]])"
            ]
          },
          "metadata": {
            "tags": []
          },
          "execution_count": 67
        }
      ]
    },
    {
      "cell_type": "code",
      "metadata": {
        "id": "OkxGlPrlPH70"
      },
      "source": [
        "import seaborn as sns\r\n",
        "import pandas as pd"
      ],
      "execution_count": 62,
      "outputs": []
    },
    {
      "cell_type": "code",
      "metadata": {
        "colab": {
          "base_uri": "https://localhost:8080/",
          "height": 335
        },
        "id": "7pzKumO9PH70",
        "outputId": "99ed0f2e-2e4e-4901-eba2-50d0bda99c55"
      },
      "source": [
        "sns.distplot(pd.DataFrame(arr_ex.reshape(16,1)))"
      ],
      "execution_count": 63,
      "outputs": [
        {
          "output_type": "stream",
          "text": [
            "/usr/local/lib/python3.6/dist-packages/seaborn/distributions.py:2551: FutureWarning: `distplot` is a deprecated function and will be removed in a future version. Please adapt your code to use either `displot` (a figure-level function with similar flexibility) or `histplot` (an axes-level function for histograms).\n",
            "  warnings.warn(msg, FutureWarning)\n"
          ],
          "name": "stderr"
        },
        {
          "output_type": "execute_result",
          "data": {
            "text/plain": [
              "<matplotlib.axes._subplots.AxesSubplot at 0x7fe93ce6bf60>"
            ]
          },
          "metadata": {
            "tags": []
          },
          "execution_count": 63
        },
        {
          "output_type": "display_data",
          "data": {
            "image/png": "[encoded data removed]",
            "text/plain": [
              "<Figure size 432x288 with 1 Axes>"
            ]
          },
          "metadata": {
            "tags": [],
            "needs_background": "light"
          }
        }
      ]
    },
    {
      "cell_type": "code",
      "metadata": {
        "colab": {
          "base_uri": "https://localhost:8080/"
        },
        "id": "N3ngwRxxPH70",
        "outputId": "54ed9642-7705-4102-9acf-fea31d5a17e9"
      },
      "source": [
        "# The randint() method takes a size parameter where you can specify the shape of an array.\r\n",
        "\r\n",
        "np.random.randint(0,100,8).reshape(4, 2)"
      ],
      "execution_count": 64,
      "outputs": [
        {
          "output_type": "execute_result",
          "data": {
            "text/plain": [
              "array([[14, 56],\n",
              "       [45, 99],\n",
              "       [67, 21],\n",
              "       [90, 20]])"
            ]
          },
          "metadata": {
            "tags": []
          },
          "execution_count": 64
        }
      ]
    },
    {
      "cell_type": "code",
      "metadata": {
        "colab": {
          "base_uri": "https://localhost:8080/"
        },
        "id": "sntChI1tH8uR",
        "outputId": "87673434-40c4-44b7-b5b3-fb6769d27693"
      },
      "source": [
        "# Generate a 2-D array with 3 rows, each row containing 5 random integers from 0 to 100\r\n",
        "\r\n",
        "np.random.randint(0, 100, size=(3, 5))"
      ],
      "execution_count": 61,
      "outputs": [
        {
          "output_type": "execute_result",
          "data": {
            "text/plain": [
              "array([[60, 67, 18, 16, 34],\n",
              "       [77, 16, 24, 95, 44],\n",
              "       [71, 43, 93, 79, 97]])"
            ]
          },
          "metadata": {
            "tags": []
          },
          "execution_count": 61
        }
      ]
    },
    {
      "cell_type": "code",
      "metadata": {
        "colab": {
          "base_uri": "https://localhost:8080/"
        },
        "id": "zG9R8V9aPH74",
        "outputId": "3ca1f0ee-3f92-40b7-ba76-cbc5cfc631da"
      },
      "source": [
        "np.random.random_sample((1,5))"
      ],
      "execution_count": null,
      "outputs": [
        {
          "output_type": "execute_result",
          "data": {
            "text/plain": [
              "array([[0.115421  , 0.22804016, 0.04973489, 0.94223964, 0.34990333]])"
            ]
          },
          "metadata": {
            "tags": []
          },
          "execution_count": 102
        }
      ]
    },
    {
      "cell_type": "markdown",
      "metadata": {
        "id": "pl3vZjbaEma_"
      },
      "source": [
        "# contribute to numpy ....!\r\n",
        "\r\n",
        "https://github.com/numpy"
      ]
    }
  ]
}
